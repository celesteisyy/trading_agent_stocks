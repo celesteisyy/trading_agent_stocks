{
 "cells": [
  {
   "cell_type": "markdown",
   "id": "4c2a4250",
   "metadata": {},
   "source": [
    "For manually download historical data using FMP when yfinance failed due to rate limit\n",
    "\n",
    "-- Just in case we need those data!"
   ]
  },
  {
   "cell_type": "code",
   "execution_count": 2,
   "id": "d10cc92b",
   "metadata": {},
   "outputs": [],
   "source": [
    "import os\n",
    "from dotenv import load_dotenv\n",
    "import requests\n",
    "import pandas as pd\n",
    "load_dotenv(\"../fin580.env\")\n",
    "FMP_API_KEY = os.getenv(\"FMP_API_KEY\")"
   ]
  },
  {
   "cell_type": "markdown",
   "id": "906ec502",
   "metadata": {},
   "source": [
    "# Stock Price"
   ]
  },
  {
   "cell_type": "code",
   "execution_count": 18,
   "id": "cfa2fa98",
   "metadata": {},
   "outputs": [],
   "source": [
    "symbol = \"AMD\"\n",
    "start_date = \"2021-01-01\"\n",
    "end_date   = \"2025-01-01\"\n",
    "url = (\n",
    "    f\"https://financialmodelingprep.com/api/v3/\"\n",
    "    f\"historical-price-full/{symbol}\"\n",
    "    f\"?from={start_date}&to={end_date}\"\n",
    "    f\"&apikey={FMP_API_KEY}\"\n",
    ")"
   ]
  },
  {
   "cell_type": "code",
   "execution_count": 19,
   "id": "32277653",
   "metadata": {},
   "outputs": [],
   "source": [
    "resp = requests.get(url)\n",
    "resp.raise_for_status()  # return error if request failed\n",
    "data = resp.json()"
   ]
  },
  {
   "cell_type": "code",
   "execution_count": 20,
   "id": "c54aebc6",
   "metadata": {},
   "outputs": [],
   "source": [
    "# pull historical data\n",
    "hist = data.get(\"historical\", [])\n",
    "df = pd.DataFrame(hist)"
   ]
  },
  {
   "cell_type": "code",
   "execution_count": 21,
   "id": "adfad2e9",
   "metadata": {},
   "outputs": [],
   "source": [
    "df[\"date\"] = pd.to_datetime(df[\"date\"])\n",
    "df = df.sort_values(\"date\").reset_index(drop=True)"
   ]
  },
  {
   "cell_type": "code",
   "execution_count": 22,
   "id": "5c8177c6",
   "metadata": {},
   "outputs": [
    {
     "name": "stdout",
     "output_type": "stream",
     "text": [
      "data saved to：../data/AMD.csv\n"
     ]
    }
   ],
   "source": [
    "output_path = f\"../data/{symbol}.csv\"\n",
    "df.to_csv(output_path, index=False, encoding=\"utf-8-sig\")\n",
    "\n",
    "print(f\"data saved to：{output_path}\")"
   ]
  },
  {
   "cell_type": "code",
   "execution_count": null,
   "id": "46f3f480",
   "metadata": {},
   "outputs": [],
   "source": []
  },
  {
   "cell_type": "markdown",
   "id": "80bb1be2",
   "metadata": {},
   "source": [
    "# Indicies"
   ]
  },
  {
   "cell_type": "code",
   "execution_count": null,
   "id": "f66b1c9e",
   "metadata": {},
   "outputs": [
    {
     "name": "stdout",
     "output_type": "stream",
     "text": [
      "✅ Fetched 1044 rows from FRED and wrote date+close to ../data/GSPC.csv\n",
      "        date    close\n",
      "0 2021-01-01      NaN\n",
      "1 2021-01-04  3700.65\n",
      "2 2021-01-05  3726.86\n",
      "3 2021-01-06  3748.14\n",
      "4 2021-01-07  3803.79\n"
     ]
    }
   ],
   "source": [
    "import datetime\n",
    "from pandas_datareader import data as web"
   ]
  },
  {
   "cell_type": "code",
   "execution_count": null,
   "id": "420406c8",
   "metadata": {},
   "outputs": [],
   "source": [
    "start = datetime.datetime(2021, 1, 1)\n",
    "end   = datetime.datetime(2025, 1, 1)"
   ]
  },
  {
   "cell_type": "code",
   "execution_count": null,
   "id": "216fc5d7",
   "metadata": {},
   "outputs": [],
   "source": [
    "df = web.DataReader('SP500', 'fred', start, end) # get from fred"
   ]
  },
  {
   "cell_type": "code",
   "execution_count": null,
   "id": "abec3a01",
   "metadata": {},
   "outputs": [],
   "source": [
    "# 4) Reset index so 'DATE' becomes a column, rename to lowercase\n",
    "df = df.reset_index()\n",
    "df.columns = ['date', 'close']"
   ]
  },
  {
   "cell_type": "code",
   "execution_count": null,
   "id": "91609f33",
   "metadata": {},
   "outputs": [],
   "source": [
    "output_path = '../data/GSPC.csv'\n",
    "df.to_csv(output_path, index=False, encoding='utf-8-sig')\n",
    "\n",
    "print(f\"Fetched {len(df)} rows from FRED and wrote date+close to {output_path}\")\n",
    "df.head()"
   ]
  },
  {
   "cell_type": "code",
   "execution_count": null,
   "id": "5d8d8d3c",
   "metadata": {},
   "outputs": [],
   "source": []
  }
 ],
 "metadata": {
  "kernelspec": {
   "display_name": "base",
   "language": "python",
   "name": "python3"
  },
  "language_info": {
   "codemirror_mode": {
    "name": "ipython",
    "version": 3
   },
   "file_extension": ".py",
   "mimetype": "text/x-python",
   "name": "python",
   "nbconvert_exporter": "python",
   "pygments_lexer": "ipython3",
   "version": "3.12.7"
  }
 },
 "nbformat": 4,
 "nbformat_minor": 5
}
