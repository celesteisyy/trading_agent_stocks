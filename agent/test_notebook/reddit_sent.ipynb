{
 "cells": [
  {
   "cell_type": "markdown",
   "id": "2c9cafbe",
   "metadata": {},
   "source": [
    "This is the notebook to test if reddit api is functioning"
   ]
  },
  {
   "cell_type": "code",
   "execution_count": 44,
   "metadata": {},
   "outputs": [
    {
     "data": {
      "text/plain": [
       "True"
      ]
     },
     "execution_count": 44,
     "metadata": {},
     "output_type": "execute_result"
    }
   ],
   "source": [
    "from dotenv import load_dotenv\n",
    "import os\n",
    "import praw\n",
    "import pandas as pd\n",
    "from datetime import datetime\n",
    "load_dotenv(\"../fin580.env\")"
   ]
  },
  {
   "cell_type": "code",
   "execution_count": 45,
   "id": "e68fa1cc",
   "metadata": {},
   "outputs": [],
   "source": [
    "reddit = praw.Reddit(\n",
    "    client_id=os.getenv(\"REDDIT_CLIENT_ID\"),\n",
    "    client_secret=os.getenv(\"REDDIT_CLIENT_SECRET\"),\n",
    "    user_agent=os.getenv(\"REDDIT_USER_AGENT\")\n",
    ")"
   ]
  },
  {
   "cell_type": "code",
   "execution_count": 46,
   "id": "0b318201",
   "metadata": {},
   "outputs": [
    {
     "name": "stdout",
     "output_type": "stream",
     "text": [
      "1ki52x4 Daily Crypto Discussion - May 9, 2025 (GMT+0)\n",
      "1ki4p0c Bitcoin Price Surges Past $101K as U.S. Legalizes Strategic BTC Reserves and Global Adoption Rises\n",
      "1ki4bop Bitcoin open interest hits 3-month high\n",
      "1ki3gio Trump Declares Full Support for Crypto on National TV—‘Millions Want It’ – Featured News\n",
      "1ki3dnv Ethereum (ETH) Is Waking Up: How High Can it Go? (Analysts Weigh in)\n"
     ]
    }
   ],
   "source": [
    "reddit = praw.Reddit(\n",
    "    client_id=os.getenv(\"REDDIT_CLIENT_ID\"),\n",
    "    client_secret=os.getenv(\"REDDIT_CLIENT_SECRET\"),\n",
    "    user_agent=os.getenv(\"REDDIT_USER_AGENT\")\n",
    ")\n",
    "\n",
    "for post in reddit.subreddit(\"CryptoCurrency\").new(limit=5):\n",
    "    print(post.id, post.title)"
   ]
  },
  {
   "cell_type": "code",
   "execution_count": null,
   "id": "ebd70dd9",
   "metadata": {},
   "outputs": [
    {
     "data": {
      "text/html": [
       "<div>\n",
       "<style scoped>\n",
       "    .dataframe tbody tr th:only-of-type {\n",
       "        vertical-align: middle;\n",
       "    }\n",
       "\n",
       "    .dataframe tbody tr th {\n",
       "        vertical-align: top;\n",
       "    }\n",
       "\n",
       "    .dataframe thead th {\n",
       "        text-align: right;\n",
       "    }\n",
       "</style>\n",
       "<table border=\"1\" class=\"dataframe\">\n",
       "  <thead>\n",
       "    <tr style=\"text-align: right;\">\n",
       "      <th></th>\n",
       "      <th>id</th>\n",
       "      <th>title</th>\n",
       "      <th>created_utc</th>\n",
       "    </tr>\n",
       "  </thead>\n",
       "  <tbody>\n",
       "    <tr>\n",
       "      <th>0</th>\n",
       "      <td>1kgj4rr</td>\n",
       "      <td>Netflix is Making a Series on FTX – Who is Pla...</td>\n",
       "      <td>2025-05-06 18:34:17</td>\n",
       "    </tr>\n",
       "    <tr>\n",
       "      <th>1</th>\n",
       "      <td>1kg3v11</td>\n",
       "      <td>What Epic Games’ App Store ruling means for cr...</td>\n",
       "      <td>2025-05-06 08:00:18</td>\n",
       "    </tr>\n",
       "    <tr>\n",
       "      <th>2</th>\n",
       "      <td>1kgin6j</td>\n",
       "      <td>Update your BCH node before May 15 + Weekly Ne...</td>\n",
       "      <td>2025-05-06 18:11:12</td>\n",
       "    </tr>\n",
       "    <tr>\n",
       "      <th>3</th>\n",
       "      <td>1kghmeg</td>\n",
       "      <td>You (A crypto parody)</td>\n",
       "      <td>2025-05-06 17:25:37</td>\n",
       "    </tr>\n",
       "    <tr>\n",
       "      <th>4</th>\n",
       "      <td>1kgh8uf</td>\n",
       "      <td>I think they’re figuring it out!</td>\n",
       "      <td>2025-05-06 17:09:10</td>\n",
       "    </tr>\n",
       "    <tr>\n",
       "      <th>...</th>\n",
       "      <td>...</td>\n",
       "      <td>...</td>\n",
       "      <td>...</td>\n",
       "    </tr>\n",
       "    <tr>\n",
       "      <th>669</th>\n",
       "      <td>1k3b4wx</td>\n",
       "      <td>Crypto, DeFi may widen wealth gap, destabilize...</td>\n",
       "      <td>2025-04-19 20:07:58</td>\n",
       "    </tr>\n",
       "    <tr>\n",
       "      <th>670</th>\n",
       "      <td>1k39w5t</td>\n",
       "      <td>Daily Crypto Discussion - April 20, 2025 (GMT+0)</td>\n",
       "      <td>2025-04-19 19:01:00</td>\n",
       "    </tr>\n",
       "    <tr>\n",
       "      <th>671</th>\n",
       "      <td>1k39v3z</td>\n",
       "      <td>Bitcoin Fees Collapse: Transaction Costs Plung...</td>\n",
       "      <td>2025-04-19 18:59:40</td>\n",
       "    </tr>\n",
       "    <tr>\n",
       "      <th>672</th>\n",
       "      <td>1k39io9</td>\n",
       "      <td>Crypto scams and what YOU can actually do.</td>\n",
       "      <td>2025-04-19 18:41:42</td>\n",
       "    </tr>\n",
       "    <tr>\n",
       "      <th>673</th>\n",
       "      <td>1k378s1</td>\n",
       "      <td>Bhutan turns to 'green' Cryptocurrency to fuel...</td>\n",
       "      <td>2025-04-19 16:48:44</td>\n",
       "    </tr>\n",
       "  </tbody>\n",
       "</table>\n",
       "<p>674 rows × 3 columns</p>\n",
       "</div>"
      ],
      "text/plain": [
       "          id                                              title  \\\n",
       "0    1kgj4rr  Netflix is Making a Series on FTX – Who is Pla...   \n",
       "1    1kg3v11  What Epic Games’ App Store ruling means for cr...   \n",
       "2    1kgin6j  Update your BCH node before May 15 + Weekly Ne...   \n",
       "3    1kghmeg                              You (A crypto parody)   \n",
       "4    1kgh8uf                   I think they’re figuring it out!   \n",
       "..       ...                                                ...   \n",
       "669  1k3b4wx  Crypto, DeFi may widen wealth gap, destabilize...   \n",
       "670  1k39w5t   Daily Crypto Discussion - April 20, 2025 (GMT+0)   \n",
       "671  1k39v3z  Bitcoin Fees Collapse: Transaction Costs Plung...   \n",
       "672  1k39io9         Crypto scams and what YOU can actually do.   \n",
       "673  1k378s1  Bhutan turns to 'green' Cryptocurrency to fuel...   \n",
       "\n",
       "            created_utc  \n",
       "0   2025-05-06 18:34:17  \n",
       "1   2025-05-06 08:00:18  \n",
       "2   2025-05-06 18:11:12  \n",
       "3   2025-05-06 17:25:37  \n",
       "4   2025-05-06 17:09:10  \n",
       "..                  ...  \n",
       "669 2025-04-19 20:07:58  \n",
       "670 2025-04-19 19:01:00  \n",
       "671 2025-04-19 18:59:40  \n",
       "672 2025-04-19 18:41:42  \n",
       "673 2025-04-19 16:48:44  \n",
       "\n",
       "[674 rows x 3 columns]"
      ]
     },
     "execution_count": 48,
     "metadata": {},
     "output_type": "execute_result"
    }
   ],
   "source": [
    "def fetch_posts_in_range(subreddit: str, start: str, end: str, max_posts=1000) -> pd.DataFrame:\n",
    "    after_ts  = int(pd.to_datetime(start).timestamp())\n",
    "    before_ts = int(pd.to_datetime(end).timestamp())\n",
    "    records = []\n",
    "    for post in reddit.subreddit(subreddit).new(limit=max_posts):\n",
    "        if after_ts <= post.created_utc <= before_ts:\n",
    "            records.append({\n",
    "                \"id\":          post.id,\n",
    "                \"title\":       post.title,\n",
    "                \"created_utc\": datetime.fromtimestamp(post.created_utc),\n",
    "                \"score\":       post.score,\n",
    "                \"num_comments\": post.num_comments,\n",
    "            })\n",
    "    return pd.DataFrame(records)\n",
    "\n",
    "df_range = fetch_posts_in_range(\"CryptoCurrency\", \"2022-04-30\", \"2025-05-07\")\n",
    "df_range[[\"id\",\"title\",\"created_utc\"]]"
   ]
  },
  {
   "cell_type": "markdown",
   "id": "074c3c21",
   "metadata": {},
   "source": [
    "As you can see, the free API only allows downloading up to 500 items... If we are expanding our time scope, a stronger method is needed"
   ]
  },
  {
   "cell_type": "markdown",
   "id": "33b47b06",
   "metadata": {},
   "source": [
    "# For greater submission needs...."
   ]
  },
  {
   "cell_type": "markdown",
   "id": "975c4ee7",
   "metadata": {},
   "source": [
    "Downloaded directly from https://academictorrents.com/details/ba051999301b109eab37d16f027b3f49ade2de13/tech&filelist=1 "
   ]
  },
  {
   "cell_type": "markdown",
   "id": "686f1dd0",
   "metadata": {},
   "source": []
  }
 ],
 "metadata": {
  "kernelspec": {
   "display_name": "base",
   "language": "python",
   "name": "python3"
  },
  "language_info": {
   "codemirror_mode": {
    "name": "ipython",
    "version": 3
   },
   "file_extension": ".py",
   "mimetype": "text/x-python",
   "name": "python",
   "nbconvert_exporter": "python",
   "pygments_lexer": "ipython3",
   "version": "3.12.7"
  }
 },
 "nbformat": 4,
 "nbformat_minor": 5
}
