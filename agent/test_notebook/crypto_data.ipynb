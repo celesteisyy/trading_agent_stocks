{
 "cells": [
  {
   "cell_type": "markdown",
   "id": "cf3ae42d",
   "metadata": {},
   "source": [
    "This is the notebook to test if the crypto data is loading functioning"
   ]
  },
  {
   "cell_type": "code",
   "execution_count": null,
   "id": "97d1a725",
   "metadata": {},
   "outputs": [],
   "source": [
    "import pandas as pd\n",
    "import numpy as np\n",
    "import ccxt\n",
    "from typing import List, Dict, Optional\n",
    "from data_loader import DataLoader\n",
    "loader = DataLoader(start_date=\"2020-01-01\", end_date=\"2025-05-01\")"
   ]
  },
  {
   "cell_type": "code",
   "execution_count": 13,
   "id": "021a0e97",
   "metadata": {},
   "outputs": [
    {
     "data": {
      "text/html": [
       "<div>\n",
       "<style scoped>\n",
       "    .dataframe tbody tr th:only-of-type {\n",
       "        vertical-align: middle;\n",
       "    }\n",
       "\n",
       "    .dataframe tbody tr th {\n",
       "        vertical-align: top;\n",
       "    }\n",
       "\n",
       "    .dataframe thead th {\n",
       "        text-align: right;\n",
       "    }\n",
       "</style>\n",
       "<table border=\"1\" class=\"dataframe\">\n",
       "  <thead>\n",
       "    <tr style=\"text-align: right;\">\n",
       "      <th></th>\n",
       "    </tr>\n",
       "  </thead>\n",
       "  <tbody>\n",
       "  </tbody>\n",
       "</table>\n",
       "</div>"
      ],
      "text/plain": [
       "Empty DataFrame\n",
       "Columns: []\n",
       "Index: []"
      ]
     },
     "execution_count": 13,
     "metadata": {},
     "output_type": "execute_result"
    }
   ],
   "source": [
    "df = loader.load_defi_prices(\n",
    "    coin_ids       = ['uniswap'],\n",
    "    vs_symbol      = 'USDT',  \n",
    "    ccxt_exchanges = ['coinbasepro'],\n",
    "    timeframe      = '1d'\n",
    ")\n",
    "df.head()"
   ]
  }
 ],
 "metadata": {
  "kernelspec": {
   "display_name": "base",
   "language": "python",
   "name": "python3"
  },
  "language_info": {
   "codemirror_mode": {
    "name": "ipython",
    "version": 3
   },
   "file_extension": ".py",
   "mimetype": "text/x-python",
   "name": "python",
   "nbconvert_exporter": "python",
   "pygments_lexer": "ipython3",
   "version": "3.12.7"
  }
 },
 "nbformat": 4,
 "nbformat_minor": 5
}
