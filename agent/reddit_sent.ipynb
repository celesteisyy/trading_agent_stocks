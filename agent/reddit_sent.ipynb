{
 "cells": [
  {
   "cell_type": "code",
   "execution_count": null,
   "id": "3e6879e9",
   "metadata": {},
   "outputs": [
    {
     "name": "stdout",
     "output_type": "stream",
     "text": [
      "Requirement already satisfied: psaw in c:\\download\\anaconda\\lib\\site-packages (0.1.0)\n",
      "Requirement already satisfied: requests in c:\\download\\anaconda\\lib\\site-packages (from psaw) (2.32.3)\n",
      "Requirement already satisfied: Click in c:\\download\\anaconda\\lib\\site-packages (from psaw) (8.1.7)\n",
      "Requirement already satisfied: colorama in c:\\download\\anaconda\\lib\\site-packages (from Click->psaw) (0.4.6)\n",
      "Requirement already satisfied: charset-normalizer<4,>=2 in c:\\download\\anaconda\\lib\\site-packages (from requests->psaw) (3.3.2)\n",
      "Requirement already satisfied: idna<4,>=2.5 in c:\\download\\anaconda\\lib\\site-packages (from requests->psaw) (3.7)\n",
      "Requirement already satisfied: urllib3<3,>=1.21.1 in c:\\download\\anaconda\\lib\\site-packages (from requests->psaw) (2.2.3)\n",
      "Requirement already satisfied: certifi>=2017.4.17 in c:\\download\\anaconda\\lib\\site-packages (from requests->psaw) (2025.1.31)\n",
      "Note: you may need to restart the kernel to use updated packages.\n"
     ]
    }
   ],
   "source": [
    "#%pip install praw psaw\n",
    "#%pip install --upgrade psaw"
   ]
  },
  {
   "cell_type": "code",
   "execution_count": null,
   "metadata": {},
   "outputs": [
    {
     "data": {
      "text/plain": [
       "True"
      ]
     },
     "execution_count": 4,
     "metadata": {},
     "output_type": "execute_result"
    }
   ],
   "source": [
    "from dotenv import load_dotenv\n",
    "import os\n",
    "import praw\n",
    "import pandas as pd\n",
    "from datetime import datetime\n",
    "load_dotenv(\"fin580.env\")"
   ]
  },
  {
   "cell_type": "code",
   "execution_count": null,
   "id": "e68fa1cc",
   "metadata": {},
   "outputs": [],
   "source": [
    "reddit = praw.Reddit(\n",
    "    client_id=os.getenv(\"REDDIT_CLIENT_ID\"),\n",
    "    client_secret=os.getenv(\"REDDIT_CLIENT_SECRET\"),\n",
    "    user_agent=os.getenv(\"REDDIT_USER_AGENT\")\n",
    ")"
   ]
  },
  {
   "cell_type": "code",
   "execution_count": 10,
   "id": "0b318201",
   "metadata": {},
   "outputs": [
    {
     "name": "stdout",
     "output_type": "stream",
     "text": [
      "1kgpuz5 The Biggest Ethereum (ETH) Upgrade Since The Merge Is Coming, And This Time, You Will Feel It\n",
      "1kgpubv Top TV on CEXs In The April -$1.1 trillion Bear Market\n",
      "1kgon2h Crypto trader loses $2.8m in an hour chasing TRUMP dinner\n",
      "1kgnhfp Coinbase has developed an open source standard for native internet payments using blockchain technology and oracles\n",
      "1kgmujw OP_RETURN Conflict: Bitcoin Core Devs Accused of Colluding to Fill Bitcoin With Spam\n"
     ]
    }
   ],
   "source": [
    "reddit = praw.Reddit(\n",
    "    client_id=os.getenv(\"CLIENT_ID\"),\n",
    "    client_secret=os.getenv(\"CLIENT_SECRET\"),\n",
    "    user_agent=os.getenv(\"REDDIT_USER_AGENT\")\n",
    ")\n",
    "\n",
    "for post in reddit.subreddit(\"CryptoCurrency\").new(limit=5):\n",
    "    print(post.id, post.title)"
   ]
  },
  {
   "cell_type": "code",
   "execution_count": 12,
   "id": "ebd70dd9",
   "metadata": {},
   "outputs": [
    {
     "data": {
      "text/html": [
       "<div>\n",
       "<style scoped>\n",
       "    .dataframe tbody tr th:only-of-type {\n",
       "        vertical-align: middle;\n",
       "    }\n",
       "\n",
       "    .dataframe tbody tr th {\n",
       "        vertical-align: top;\n",
       "    }\n",
       "\n",
       "    .dataframe thead th {\n",
       "        text-align: right;\n",
       "    }\n",
       "</style>\n",
       "<table border=\"1\" class=\"dataframe\">\n",
       "  <thead>\n",
       "    <tr style=\"text-align: right;\">\n",
       "      <th></th>\n",
       "      <th>id</th>\n",
       "      <th>title</th>\n",
       "      <th>created_utc</th>\n",
       "    </tr>\n",
       "  </thead>\n",
       "  <tbody>\n",
       "    <tr>\n",
       "      <th>0</th>\n",
       "      <td>1kgj4rr</td>\n",
       "      <td>Netflix is Making a Series on FTX – Who is Pla...</td>\n",
       "      <td>2025-05-06 18:34:17</td>\n",
       "    </tr>\n",
       "    <tr>\n",
       "      <th>1</th>\n",
       "      <td>1kg3v11</td>\n",
       "      <td>What Epic Games’ App Store ruling means for cr...</td>\n",
       "      <td>2025-05-06 08:00:18</td>\n",
       "    </tr>\n",
       "    <tr>\n",
       "      <th>2</th>\n",
       "      <td>1kgin6j</td>\n",
       "      <td>Update your BCH node before May 15 + Weekly Ne...</td>\n",
       "      <td>2025-05-06 18:11:12</td>\n",
       "    </tr>\n",
       "    <tr>\n",
       "      <th>3</th>\n",
       "      <td>1kghmeg</td>\n",
       "      <td>You (A crypto parody)</td>\n",
       "      <td>2025-05-06 17:25:37</td>\n",
       "    </tr>\n",
       "    <tr>\n",
       "      <th>4</th>\n",
       "      <td>1kgh8uf</td>\n",
       "      <td>I think they’re figuring it out!</td>\n",
       "      <td>2025-05-06 17:09:10</td>\n",
       "    </tr>\n",
       "    <tr>\n",
       "      <th>...</th>\n",
       "      <td>...</td>\n",
       "      <td>...</td>\n",
       "      <td>...</td>\n",
       "    </tr>\n",
       "    <tr>\n",
       "      <th>275</th>\n",
       "      <td>1kb9p1n</td>\n",
       "      <td>Senate to vote on GENIUS stablecoin bill befor...</td>\n",
       "      <td>2025-04-30 01:18:40</td>\n",
       "    </tr>\n",
       "    <tr>\n",
       "      <th>276</th>\n",
       "      <td>1kb9ekn</td>\n",
       "      <td>The World's Largest Asset Manager (BlackRock) ...</td>\n",
       "      <td>2025-04-30 00:59:48</td>\n",
       "    </tr>\n",
       "    <tr>\n",
       "      <th>277</th>\n",
       "      <td>1kb5eqo</td>\n",
       "      <td>RizzFi: Injecting Culture and Confidence into ...</td>\n",
       "      <td>2025-04-29 21:07:20</td>\n",
       "    </tr>\n",
       "    <tr>\n",
       "      <th>278</th>\n",
       "      <td>1kb3u4t</td>\n",
       "      <td>Miden raised $25M</td>\n",
       "      <td>2025-04-29 19:47:55</td>\n",
       "    </tr>\n",
       "    <tr>\n",
       "      <th>279</th>\n",
       "      <td>1kb2vrp</td>\n",
       "      <td>Daily Crypto Discussion - April 30, 2025 (GMT+0)</td>\n",
       "      <td>2025-04-29 19:00:45</td>\n",
       "    </tr>\n",
       "  </tbody>\n",
       "</table>\n",
       "<p>280 rows × 3 columns</p>\n",
       "</div>"
      ],
      "text/plain": [
       "          id                                              title  \\\n",
       "0    1kgj4rr  Netflix is Making a Series on FTX – Who is Pla...   \n",
       "1    1kg3v11  What Epic Games’ App Store ruling means for cr...   \n",
       "2    1kgin6j  Update your BCH node before May 15 + Weekly Ne...   \n",
       "3    1kghmeg                              You (A crypto parody)   \n",
       "4    1kgh8uf                   I think they’re figuring it out!   \n",
       "..       ...                                                ...   \n",
       "275  1kb9p1n  Senate to vote on GENIUS stablecoin bill befor...   \n",
       "276  1kb9ekn  The World's Largest Asset Manager (BlackRock) ...   \n",
       "277  1kb5eqo  RizzFi: Injecting Culture and Confidence into ...   \n",
       "278  1kb3u4t                                  Miden raised $25M   \n",
       "279  1kb2vrp   Daily Crypto Discussion - April 30, 2025 (GMT+0)   \n",
       "\n",
       "            created_utc  \n",
       "0   2025-05-06 18:34:17  \n",
       "1   2025-05-06 08:00:18  \n",
       "2   2025-05-06 18:11:12  \n",
       "3   2025-05-06 17:25:37  \n",
       "4   2025-05-06 17:09:10  \n",
       "..                  ...  \n",
       "275 2025-04-30 01:18:40  \n",
       "276 2025-04-30 00:59:48  \n",
       "277 2025-04-29 21:07:20  \n",
       "278 2025-04-29 19:47:55  \n",
       "279 2025-04-29 19:00:45  \n",
       "\n",
       "[280 rows x 3 columns]"
      ]
     },
     "execution_count": 12,
     "metadata": {},
     "output_type": "execute_result"
    }
   ],
   "source": [
    "def fetch_posts_in_range(subreddit: str, start: str, end: str, max_posts=1000) -> pd.DataFrame:\n",
    "    after_ts  = int(pd.to_datetime(start).timestamp())\n",
    "    before_ts = int(pd.to_datetime(end).timestamp())\n",
    "    records = []\n",
    "    for post in reddit.subreddit(subreddit).new(limit=max_posts):\n",
    "        if after_ts <= post.created_utc <= before_ts:\n",
    "            records.append({\n",
    "                \"id\":          post.id,\n",
    "                \"title\":       post.title,\n",
    "                \"created_utc\": datetime.fromtimestamp(post.created_utc),\n",
    "                \"score\":       post.score,\n",
    "                \"num_comments\": post.num_comments,\n",
    "            })\n",
    "    return pd.DataFrame(records)\n",
    "\n",
    "df_range = fetch_posts_in_range(\"CryptoCurrency\", \"2025-04-30\", \"2025-05-07\", max_posts=500)\n",
    "df_range[[\"id\",\"title\",\"created_utc\"]]"
   ]
  },
  {
   "cell_type": "code",
   "execution_count": null,
   "id": "33b47b06",
   "metadata": {},
   "outputs": [],
   "source": []
  }
 ],
 "metadata": {
  "kernelspec": {
   "display_name": "base",
   "language": "python",
   "name": "python3"
  },
  "language_info": {
   "codemirror_mode": {
    "name": "ipython",
    "version": 3
   },
   "file_extension": ".py",
   "mimetype": "text/x-python",
   "name": "python",
   "nbconvert_exporter": "python",
   "pygments_lexer": "ipython3",
   "version": "3.12.7"
  }
 },
 "nbformat": 4,
 "nbformat_minor": 5
}
